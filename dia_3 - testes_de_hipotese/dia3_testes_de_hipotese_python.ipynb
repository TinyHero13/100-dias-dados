{
 "cells": [
  {
   "cell_type": "markdown",
   "metadata": {},
   "source": [
    "# Testes de hipótese\n",
    "\n",
    "São úteis porque permitem avaliar a validade de uma determinada afirmação ou hipótese com base em dados empíricos.\n",
    "\n",
    "Hipótese nula\n",
    "\n",
    "Hipótese alternativa"
   ]
  },
  {
   "cell_type": "code",
   "execution_count": null,
   "metadata": {},
   "outputs": [],
   "source": []
  }
 ],
 "metadata": {
  "language_info": {
   "name": "python"
  }
 },
 "nbformat": 4,
 "nbformat_minor": 2
}
